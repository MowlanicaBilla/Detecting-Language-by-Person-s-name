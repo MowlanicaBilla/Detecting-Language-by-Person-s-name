{
  "nbformat": 4,
  "nbformat_minor": 0,
  "metadata": {
    "colab": {
      "name": "Detecting Language of a person by his name.ipynb",
      "version": "0.3.2",
      "provenance": [],
      "collapsed_sections": [],
      "toc_visible": true
    },
    "kernelspec": {
      "name": "python3",
      "display_name": "Python 3"
    }
  },
  "cells": [
    {
      "metadata": {
        "id": "i24jdqdVdvEC",
        "colab_type": "text"
      },
      "cell_type": "markdown",
      "source": [
        "In this tutorial, we’ll build a [Recurrent Neural Network (RNN)](https://pytorch.org/tutorials/intermediate/char_rnn_classification_tutorial.html) in PyTorch that will classify people’s names by their languages. We assume that the reader has a basic understanding of [PyTorch](https://heartbeat.fritz.ai/introduction-to-pytorch-for-deep-learning-5b437cea90ac) and [machine learning in Python](https://heartbeat.fritz.ai/some-essential-hacks-and-tricks-for-machine-learning-with-python-5478bc6593f2).\n",
        "\n",
        "At the end of this tutorial, we’ll be able to predict the language of the names based on their spelling. The dataset of names used in this tutorial can be downloaded [here](https://drive.google.com/uc?id=1Aw8EKmAaAJWL1hT6ASGOxCpurT-0oJr1). This tutorial has been adapted from [PyTorch’s](https://pytorch.org/) official docs— check out more about the implementation from these docs.\n",
        "\n",
        "\n",
        "## Plan of Attack\n",
        "1. [Data Pre-processing](https://heartbeat.fritz.ai/data-preprocessing-and-visualization-implications-for-your-machine-learning-model-8dfbaaa51423\n",
        ")\n",
        "2. Turning the Names into PyTorch Tensors\n",
        "3. Building the RNN\n",
        "4. Testing the RNN\n",
        "5. Training the RNN\n",
        "6. Plotting the Results\n",
        "7. Evaluating the Results\n",
        "8. Predicting on New Names\n",
        "9. Conclusion"
      ]
    },
    {
      "metadata": {
        "id": "Q6slptfXqQKD",
        "colab_type": "text"
      },
      "cell_type": "markdown",
      "source": [
        "https://heartbeat.fritz.ai/detecting-the-language-of-a-persons-name-using-pytorch-rnn-29a9090c20f2"
      ]
    },
    {
      "metadata": {
        "id": "MvA9BsDLfEPN",
        "colab_type": "text"
      },
      "cell_type": "markdown",
      "source": [
        "## Data Pre-processing\n",
        "\n",
        "As is the case with any machine learning task, we’ll kick off by loading and preparing our dataset. Upon downloading the dataset, we notice that there’s a folder called *names* inside the data folder. It contains text files with surnames in eighteen different languages.\n",
        "\n",
        "In order to load all the files in one go, we’ll use a Python module known as [*glob*](https://docs.python.org/3/library/glob.html#module-glob). The [glob](https://docs.python.org/3/library/glob.html#module-glob) module finds all the pathnames matching a specified pattern according to the rules used by the Unix shell. Results are returned in an arbitrary order. We’ll use it to load all the files in the folder that end with *.txt* ."
      ]
    },
    {
      "metadata": {
        "id": "lUfAjSOfjzhH",
        "colab_type": "code",
        "outputId": "315509b0-3ccf-46d9-ea54-1581c5d827fe",
        "colab": {
          "base_uri": "https://localhost:8080/",
          "height": 85
        }
      },
      "cell_type": "code",
      "source": [
        "# Downloading the dataset\n",
        "\n",
        "!gdown https://drive.google.com/uc?id=1Aw8EKmAaAJWL1hT6ASGOxCpurT-0oJr1"
      ],
      "execution_count": 1,
      "outputs": [
        {
          "output_type": "stream",
          "text": [
            "Downloading...\n",
            "From: https://drive.google.com/uc?id=1Aw8EKmAaAJWL1hT6ASGOxCpurT-0oJr1\n",
            "To: /content/data (2).zip\n",
            "\r0.00B [00:00, ?B/s]\r2.88MB [00:00, 87.6MB/s]\n"
          ],
          "name": "stdout"
        }
      ]
    },
    {
      "metadata": {
        "id": "G5uv7bUsj_uH",
        "colab_type": "code",
        "outputId": "035c4fb4-8fd0-4d07-c5b5-6d0d1935731c",
        "colab": {
          "base_uri": "https://localhost:8080/",
          "height": 391
        }
      },
      "cell_type": "code",
      "source": [
        "!unzip '/content/data (2).zip'"
      ],
      "execution_count": 2,
      "outputs": [
        {
          "output_type": "stream",
          "text": [
            "Archive:  /content/data (2).zip\n",
            "   creating: data/\n",
            "  inflating: data/eng-fra.txt        \n",
            "   creating: data/names/\n",
            "  inflating: data/names/Arabic.txt   \n",
            "  inflating: data/names/Chinese.txt  \n",
            "  inflating: data/names/Czech.txt    \n",
            "  inflating: data/names/Dutch.txt    \n",
            "  inflating: data/names/English.txt  \n",
            "  inflating: data/names/French.txt   \n",
            "  inflating: data/names/German.txt   \n",
            "  inflating: data/names/Greek.txt    \n",
            "  inflating: data/names/Irish.txt    \n",
            "  inflating: data/names/Italian.txt  \n",
            "  inflating: data/names/Japanese.txt  \n",
            "  inflating: data/names/Korean.txt   \n",
            "  inflating: data/names/Polish.txt   \n",
            "  inflating: data/names/Portuguese.txt  \n",
            "  inflating: data/names/Russian.txt  \n",
            "  inflating: data/names/Scottish.txt  \n",
            "  inflating: data/names/Spanish.txt  \n",
            "  inflating: data/names/Vietnamese.txt  \n"
          ],
          "name": "stdout"
        }
      ]
    },
    {
      "metadata": {
        "id": "3uEqaDV6diqv",
        "colab_type": "code",
        "outputId": "7a5a4d67-f31b-4f00-97f5-c720cc64182b",
        "colab": {
          "base_uri": "https://localhost:8080/",
          "height": 54
        }
      },
      "cell_type": "code",
      "source": [
        "import glob\n",
        "\n",
        "all_text_files = glob.glob('data/names/*.txt')\n",
        "print(all_text_files)"
      ],
      "execution_count": 3,
      "outputs": [
        {
          "output_type": "stream",
          "text": [
            "['data/names/Scottish.txt', 'data/names/Japanese.txt', 'data/names/French.txt', 'data/names/German.txt', 'data/names/Portuguese.txt', 'data/names/Vietnamese.txt', 'data/names/Korean.txt', 'data/names/Chinese.txt', 'data/names/Italian.txt', 'data/names/English.txt', 'data/names/Czech.txt', 'data/names/Irish.txt', 'data/names/Greek.txt', 'data/names/Dutch.txt', 'data/names/Russian.txt', 'data/names/Spanish.txt', 'data/names/Polish.txt', 'data/names/Arabic.txt']\n"
          ],
          "name": "stdout"
        }
      ]
    },
    {
      "metadata": {
        "id": "Ty_RoJcPkfiz",
        "colab_type": "text"
      },
      "cell_type": "markdown",
      "source": [
        "Currently the names are in Unicode format. However, we have to convert them to ASCII standard. This will remove the diacritics in the words. For example, the French name Béringer will be converted to Beringer."
      ]
    },
    {
      "metadata": {
        "id": "L6FbfeF9kfAW",
        "colab_type": "code",
        "outputId": "1f5b3461-ffea-4675-a3e1-110572a256ce",
        "colab": {
          "base_uri": "https://localhost:8080/",
          "height": 34
        }
      },
      "cell_type": "code",
      "source": [
        "\n",
        "import unicodedata\n",
        "import string\n",
        "\n",
        "all_letters = string.ascii_letters + \" .,;'\"\n",
        "n_letters = len(all_letters)\n",
        "\n",
        "def unicode_to_ascii(s):\n",
        "    return ''.join(\n",
        "        c for c in unicodedata.normalize('NFD', s)\n",
        "        if unicodedata.category(c) != 'Mn'\n",
        "        and c in all_letters\n",
        "    )\n",
        "\n",
        "print(unicode_to_ascii('Béringer'))"
      ],
      "execution_count": 4,
      "outputs": [
        {
          "output_type": "stream",
          "text": [
            "Beringer\n"
          ],
          "name": "stdout"
        }
      ]
    },
    {
      "metadata": {
        "id": "xRSa_fShkns0",
        "colab_type": "text"
      },
      "cell_type": "markdown",
      "source": [
        "In the next step, we create a dictionary with a list of names for each language."
      ]
    },
    {
      "metadata": {
        "id": "Aci0QP9BkoZD",
        "colab_type": "code",
        "outputId": "21cc7130-31cd-46c7-bc3d-b4f49a55fadb",
        "colab": {
          "base_uri": "https://localhost:8080/",
          "height": 34
        }
      },
      "cell_type": "code",
      "source": [
        "category_languages = {}\n",
        "all_categories = []\n",
        "\n",
        "def readLines(filename):\n",
        "    lines = open(filename).read().strip().split('\\n')\n",
        "    return [unicode_to_ascii(line) for line in lines]\n",
        "\n",
        "for filename in all_text_files:\n",
        "    category = filename.split('/')[-1].split('.')[0]\n",
        "    all_categories.append(category)\n",
        "    languages = readLines(filename)\n",
        "    category_languages[category] = languages\n",
        "\n",
        "no_of_languages = len(all_categories)\n",
        "print('There are {} langauages'.format(no_of_languages))"
      ],
      "execution_count": 5,
      "outputs": [
        {
          "output_type": "stream",
          "text": [
            "There are 18 langauages\n"
          ],
          "name": "stdout"
        }
      ]
    },
    {
      "metadata": {
        "id": "rVWmWa0jlvYM",
        "colab_type": "text"
      },
      "cell_type": "markdown",
      "source": [
        "We can view the first fifteen names in the Arabic dictionary as shown below."
      ]
    },
    {
      "metadata": {
        "id": "sT5-gB_bkzCZ",
        "colab_type": "code",
        "outputId": "37f4d59a-b6c4-409a-894f-934c26acbc39",
        "colab": {
          "base_uri": "https://localhost:8080/",
          "height": 54
        }
      },
      "cell_type": "code",
      "source": [
        "print(category_languages['Arabic'][:15])"
      ],
      "execution_count": 6,
      "outputs": [
        {
          "output_type": "stream",
          "text": [
            "['Khoury', 'Nahas', 'Daher', 'Gerges', 'Nazari', 'Maalouf', 'Gerges', 'Naifeh', 'Guirguis', 'Baba', 'Sabbagh', 'Attia', 'Tahan', 'Haddad', 'Aswad']\n"
          ],
          "name": "stdout"
        }
      ]
    },
    {
      "metadata": {
        "id": "idxbzSHyl5Jb",
        "colab_type": "text"
      },
      "cell_type": "markdown",
      "source": [
        "## Turning the Names into PyTorch Tensors\n",
        "\n",
        "When working with data in PyTorch, we have to convert it to PyTorch tensors. This is very similar to NumPy arrays. In our case, we have to convert each letter into a torch tensor. This will be a one-hot vector filled with 0s except for a 1 at the index of the current letter. Let’s show how this is done and then convert the letter M to a one-hot vector."
      ]
    },
    {
      "metadata": {
        "id": "q7QVlbrwlycC",
        "colab_type": "code",
        "colab": {}
      },
      "cell_type": "code",
      "source": [
        "import torch\n",
        "\n",
        "def letter_to_tensor(letter):\n",
        "    tensor = torch.zeros(1, n_letters)\n",
        "    letter_index = all_letters.find(letter)\n",
        "    tensor[0][letter_index] = 1\n",
        "    return tensor\n",
        "\n",
        "def line_to_tensor(line):\n",
        "    tensor = torch.zeros(len(line), 1, n_letters)\n",
        "    for li, letter in enumerate(line):\n",
        "        letter_index = all_letters.find(letter)\n",
        "        tensor[li][0][letter_index] = 1\n",
        "    return tensor\n"
      ],
      "execution_count": 0,
      "outputs": []
    },
    {
      "metadata": {
        "id": "GTFhEfsHmK1b",
        "colab_type": "code",
        "outputId": "db8635a2-9672-4ded-d3c4-c3c02dd277d3",
        "colab": {
          "base_uri": "https://localhost:8080/",
          "height": 85
        }
      },
      "cell_type": "code",
      "source": [
        "print(letter_to_tensor('A'))"
      ],
      "execution_count": 8,
      "outputs": [
        {
          "output_type": "stream",
          "text": [
            "tensor([[0., 0., 0., 0., 0., 0., 0., 0., 0., 0., 0., 0., 0., 0., 0., 0., 0., 0.,\n",
            "         0., 0., 0., 0., 0., 0., 0., 0., 1., 0., 0., 0., 0., 0., 0., 0., 0., 0.,\n",
            "         0., 0., 0., 0., 0., 0., 0., 0., 0., 0., 0., 0., 0., 0., 0., 0., 0., 0.,\n",
            "         0., 0., 0.]])\n"
          ],
          "name": "stdout"
        }
      ]
    },
    {
      "metadata": {
        "id": "mCUI7G63mRnu",
        "colab_type": "text"
      },
      "cell_type": "markdown",
      "source": [
        "In order to form a single word, we'll have to join several one-hot vectors to form a 2D matrix."
      ]
    },
    {
      "metadata": {
        "id": "y49fuKQvmYnw",
        "colab_type": "text"
      },
      "cell_type": "markdown",
      "source": [
        "## Building the RNN\n",
        "\n",
        "When creating a neural network in PyTorch, we use the ***torch.nn.Module***, which is the base class for all neural network modules.* torch.autograd* provides classes and functions implementing automatic differentiation of arbitrary scalar valued functions. ***torch.nn.LogSoftmax()*** applies the *Log(Softmax(x))* function to an n-dimensional input Tensor.\n"
      ]
    },
    {
      "metadata": {
        "id": "beHO9zJKmSZb",
        "colab_type": "code",
        "colab": {}
      },
      "cell_type": "code",
      "source": [
        "import torch.nn as nn\n",
        "from torch.autograd import Variable\n",
        "\n",
        "class RNN(nn.Module):\n",
        "    def __init__(self, input_size, hidden_size, output_size):\n",
        "        super(RNN, self).__init__()\n",
        "        \n",
        "        self.input_size = input_size\n",
        "        self.hidden_size = hidden_size\n",
        "        self.output_size = output_size\n",
        "        \n",
        "        self.i2h = nn.Linear(input_size + hidden_size, hidden_size)\n",
        "        self.i2o = nn.Linear(input_size + hidden_size, output_size)\n",
        "        self.softmax = nn.LogSoftmax()\n",
        "    \n",
        "    def forward(self, input, hidden):\n",
        "        combined = torch.cat((input, hidden), 1)\n",
        "        hidden = self.i2h(combined)\n",
        "        output = self.i2o(combined)\n",
        "        output = self.softmax(output)\n",
        "        return output, hidden\n",
        "\n",
        "    def init_hidden(self):\n",
        "        return Variable(torch.zeros(1, self.hidden_size))"
      ],
      "execution_count": 0,
      "outputs": []
    },
    {
      "metadata": {
        "id": "6XGKDpSpn2tE",
        "colab_type": "text"
      },
      "cell_type": "markdown",
      "source": [
        "## Testing the RNN\n",
        "We kick off by creating an instance of the RNN class and passing in the arguments as required."
      ]
    },
    {
      "metadata": {
        "id": "4yM-ZXL_nzdF",
        "colab_type": "code",
        "colab": {}
      },
      "cell_type": "code",
      "source": [
        "n_hidden = 128\n",
        "rnn = RNN(n_letters, n_hidden, no_of_languages)"
      ],
      "execution_count": 0,
      "outputs": []
    },
    {
      "metadata": {
        "id": "dueHHgf_oArz",
        "colab_type": "text"
      },
      "cell_type": "markdown",
      "source": [
        "We’d like the network to give us the probability of each language. In order to achieve this, we’ll pass the tensor of the current letter."
      ]
    },
    {
      "metadata": {
        "id": "6GxL1p9En9WD",
        "colab_type": "code",
        "outputId": "f5d9e698-03b7-4ff7-a514-887f3f06a9e3",
        "colab": {
          "base_uri": "https://localhost:8080/",
          "height": 122
        }
      },
      "cell_type": "code",
      "source": [
        "input = Variable(letter_to_tensor('D'))\n",
        "hidden = rnn.init_hidden()\n",
        "\n",
        "output, next_hidden = rnn(input, hidden)\n",
        "print('output.size =', output.size())\n",
        "\n",
        "input = Variable(line_to_tensor('Derrick'))\n",
        "hidden = Variable(torch.zeros(1, n_hidden))\n",
        "\n",
        "output, next_hidden = rnn(input[0], hidden)\n",
        "print(output)\n"
      ],
      "execution_count": 11,
      "outputs": [
        {
          "output_type": "stream",
          "text": [
            "output.size = torch.Size([1, 18])\n",
            "tensor([[-2.8571, -2.8087, -2.8412, -2.9712, -2.9487, -3.0029, -2.8894, -2.9170,\n",
            "         -2.9211, -2.9013, -2.8352, -2.8252, -2.9158, -2.9152, -2.9547, -2.9333,\n",
            "         -2.7843, -2.8360]], grad_fn=<LogSoftmaxBackward>)\n"
          ],
          "name": "stdout"
        },
        {
          "output_type": "stream",
          "text": [
            "/usr/local/lib/python3.6/dist-packages/ipykernel_launcher.py:20: UserWarning: Implicit dimension choice for log_softmax has been deprecated. Change the call to include dim=X as an argument.\n"
          ],
          "name": "stderr"
        }
      ]
    },
    {
      "metadata": {
        "id": "k7ffYb3OoFsk",
        "colab_type": "text"
      },
      "cell_type": "markdown",
      "source": [
        "## Training the RNN\n",
        "In order to get the likelihood of each category, we use *Tensor.topk* to get the index of the greatest value"
      ]
    },
    {
      "metadata": {
        "id": "2B1pskQ0oF8H",
        "colab_type": "code",
        "outputId": "8ff1f34e-70aa-4c72-bec4-72b584491ff8",
        "colab": {
          "base_uri": "https://localhost:8080/",
          "height": 34
        }
      },
      "cell_type": "code",
      "source": [
        "def category_from_output(output):\n",
        "    top_n, top_i = output.data.topk(1) \n",
        "    category_i = top_i[0][0]\n",
        "    return all_categories[category_i], category_i\n",
        "\n",
        "print(category_from_output(output))"
      ],
      "execution_count": 12,
      "outputs": [
        {
          "output_type": "stream",
          "text": [
            "('Polish', tensor(16))\n"
          ],
          "name": "stdout"
        }
      ]
    },
    {
      "metadata": {
        "id": "F38GxqG4oesi",
        "colab_type": "text"
      },
      "cell_type": "markdown",
      "source": [
        "Next we need a quick way to obtain a name and its output."
      ]
    },
    {
      "metadata": {
        "id": "Kuvt-sL7ofSi",
        "colab_type": "code",
        "outputId": "3c1277d2-4ee5-4804-a724-9fef5cf090f4",
        "colab": {
          "base_uri": "https://localhost:8080/",
          "height": 187
        }
      },
      "cell_type": "code",
      "source": [
        "import random\n",
        "\n",
        "def random_training_pair():                                                                                                               \n",
        "    category = random.choice(all_categories)\n",
        "    line = random.choice(category_languages[category])\n",
        "    category_tensor = Variable(torch.LongTensor([all_categories.index(category)]))\n",
        "    line_tensor = Variable(line_to_tensor(line))\n",
        "    return category, line, category_tensor, line_tensor\n",
        "\n",
        "for i in range(10):\n",
        "    category, line, category_tensor, line_tensor = random_training_pair()\n",
        "    print('category =', category, '/ line =', line)"
      ],
      "execution_count": 13,
      "outputs": [
        {
          "output_type": "stream",
          "text": [
            "category = Arabic / line = Awad\n",
            "category = Spanish / line = Mas\n",
            "category = Vietnamese / line = Ho\n",
            "category = Scottish / line = Hay\n",
            "category = Italian / line = Montanari\n",
            "category = Italian / line = Alessandri\n",
            "category = Japanese / line = Matokai\n",
            "category = Polish / line = Majewski\n",
            "category = Portuguese / line = Mateus\n",
            "category = German / line = Reuter\n"
          ],
          "name": "stdout"
        }
      ]
    },
    {
      "metadata": {
        "id": "GHysxAeSowNH",
        "colab_type": "text"
      },
      "cell_type": "markdown",
      "source": [
        "The next step is to define the [loss function](https://heartbeat.fritz.ai/5-regression-loss-functions-all-machine-learners-should-know-4fb140e9d4b0) and create an optimizer that will update the parameters of the model according to its gradients. We also specify a learning rate for our model"
      ]
    },
    {
      "metadata": {
        "id": "sQBJsBEYo32u",
        "colab_type": "code",
        "colab": {}
      },
      "cell_type": "code",
      "source": [
        "criterion = nn.NLLLoss()\n",
        " \n",
        "learning_rate = 0.005 \n",
        "optimizer = torch.optim.SGD(rnn.parameters(), lr=learning_rate)"
      ],
      "execution_count": 0,
      "outputs": []
    },
    {
      "metadata": {
        "id": "ziDKrrRso9Tq",
        "colab_type": "text"
      },
      "cell_type": "markdown",
      "source": [
        "We move forward to define a function that will create the input and output tensors, compare the final output to the target output, and finally do back-propagation."
      ]
    },
    {
      "metadata": {
        "id": "XEHEbrvKo-Vl",
        "colab_type": "code",
        "colab": {}
      },
      "cell_type": "code",
      "source": [
        "def train(category_tensor, line_tensor):\n",
        "    rnn.zero_grad()\n",
        "    hidden = rnn.init_hidden()\n",
        "    \n",
        "    for i in range(line_tensor.size()[0]):\n",
        "        output, hidden = rnn(line_tensor[i], hidden)\n",
        "\n",
        "    loss = criterion(output, category_tensor)\n",
        "    loss.backward()\n",
        "\n",
        "    optimizer.step()\n",
        "\n",
        "    return output, loss.item()"
      ],
      "execution_count": 0,
      "outputs": []
    },
    {
      "metadata": {
        "id": "Doyiu2OBaDGN",
        "colab_type": "code",
        "colab": {
          "base_uri": "https://localhost:8080/",
          "height": 34
        },
        "outputId": "857161f1-fa7f-43ed-853e-fef7af51c1c6"
      },
      "cell_type": "code",
      "source": [
        "category_tensor.dim()"
      ],
      "execution_count": 24,
      "outputs": [
        {
          "output_type": "execute_result",
          "data": {
            "text/plain": [
              "1"
            ]
          },
          "metadata": {
            "tags": []
          },
          "execution_count": 24
        }
      ]
    },
    {
      "metadata": {
        "id": "sWN34ysgpDYT",
        "colab_type": "text"
      },
      "cell_type": "markdown",
      "source": [
        "The next step is to run several examples using this train function as we keep track of the losses for later plotting."
      ]
    },
    {
      "metadata": {
        "id": "p_QZK3b2pEIK",
        "colab_type": "code",
        "colab": {}
      },
      "cell_type": "code",
      "source": [
        "import time\n",
        "import math\n",
        "\n",
        "n_epochs = 100000\n",
        "print_every = 5000\n",
        "plot_every = 1000\n",
        "\n",
        "current_loss = 0\n",
        "all_losses = []\n",
        "\n",
        "def time_since(since):\n",
        "    now = time.time()\n",
        "    s = now - since\n",
        "    m = math.floor(s / 60)\n",
        "    s -= m * 60\n",
        "    return '%dm %ds' % (m, s)\n",
        "\n",
        "start = time.time()\n"
      ],
      "execution_count": 0,
      "outputs": []
    },
    {
      "metadata": {
        "id": "heTxjW9_ahdW",
        "colab_type": "code",
        "colab": {
          "base_uri": "https://localhost:8080/",
          "height": 394
        },
        "outputId": "0528c83e-ef47-4a5f-e83b-254028374d4a"
      },
      "cell_type": "code",
      "source": [
        "for epoch in range(1, n_epochs + 1):\n",
        "    category, line, category_tensor, line_tensor = random_training_pair()\n",
        "    output, loss = train(category_tensor, line_tensor)\n",
        "    current_loss += loss\n",
        "    \n",
        "    if epoch % print_every == 0:\n",
        "        guess, guess_i = category_from_output(output)\n",
        "        correct = '✓' if guess == category else '✗ (%s)' % category\n",
        "        print('%d %d%% (%s) %.4f %s / %s %s' % (epoch, epoch / n_epochs * 100, time_since(start), loss, line, guess, correct))\n",
        "\n",
        "    if epoch % plot_every == 0:\n",
        "        all_losses.append(current_loss / plot_every)\n",
        "        current_loss = 0"
      ],
      "execution_count": 26,
      "outputs": [
        {
          "output_type": "stream",
          "text": [
            "/usr/local/lib/python3.6/dist-packages/ipykernel_launcher.py:20: UserWarning: Implicit dimension choice for log_softmax has been deprecated. Change the call to include dim=X as an argument.\n"
          ],
          "name": "stderr"
        },
        {
          "output_type": "stream",
          "text": [
            "5000 5% (0m 11s) 2.6170 Schoorel / French ✗ (Dutch)\n",
            "10000 10% (0m 18s) 1.5516 Chi / Chinese ✗ (Korean)\n",
            "15000 15% (0m 24s) 1.5027 Garza / Spanish ✓\n",
            "20000 20% (0m 30s) 2.8184 Rusnak / Arabic ✗ (Polish)\n",
            "25000 25% (0m 36s) 1.4177 Sommer / German ✓\n",
            "30000 30% (0m 43s) 1.7033 Perrot / French ✓\n",
            "35000 35% (0m 50s) 0.5661 Seok / Korean ✓\n",
            "40000 40% (0m 56s) 1.6404 Barron / English ✓\n",
            "45000 45% (1m 2s) 2.2184 Duval / Irish ✗ (French)\n",
            "50000 50% (1m 9s) 0.0168 Filipowski / Polish ✓\n",
            "55000 55% (1m 15s) 0.4603 Kikkert / Dutch ✓\n",
            "60000 60% (1m 21s) 0.7755 Venn / Dutch ✓\n",
            "65000 65% (1m 27s) 1.0906 Ma / Korean ✗ (Vietnamese)\n",
            "70000 70% (1m 34s) 1.3166 Haddad / Arabic ✓\n",
            "75000 75% (1m 40s) 1.0228 Deniel / French ✓\n",
            "80000 80% (1m 46s) 3.6726 Schlantz / Spanish ✗ (Czech)\n",
            "85000 85% (1m 53s) 0.7741 Kurmochi / Japanese ✓\n",
            "90000 90% (1m 59s) 0.4001 Pierno / Italian ✓\n",
            "95000 95% (2m 5s) 1.8661 Jewson / Scottish ✗ (English)\n",
            "100000 100% (2m 11s) 3.2142 Papageorge / French ✗ (Greek)\n"
          ],
          "name": "stdout"
        }
      ]
    },
    {
      "metadata": {
        "id": "QFuKA-R9pdtU",
        "colab_type": "text"
      },
      "cell_type": "markdown",
      "source": [
        "## Plotting the Results\n",
        "We plot the results using Matplotlib’s *pyplot*. The plot will show us the learning rate of our network."
      ]
    },
    {
      "metadata": {
        "id": "TEvkcN5JpiS_",
        "colab_type": "code",
        "colab": {
          "base_uri": "https://localhost:8080/",
          "height": 282
        },
        "outputId": "39775d3c-fe20-43cb-9ae5-c67228d5d34f"
      },
      "cell_type": "code",
      "source": [
        "import matplotlib.pyplot as plt\n",
        "import matplotlib.ticker as ticker\n",
        "%matplotlib inline\n",
        "\n",
        "plt.figure()\n",
        "plt.plot(all_losses)"
      ],
      "execution_count": 27,
      "outputs": [
        {
          "output_type": "execute_result",
          "data": {
            "text/plain": [
              "[<matplotlib.lines.Line2D at 0x7fa7fc7b0ac8>]"
            ]
          },
          "metadata": {
            "tags": []
          },
          "execution_count": 27
        },
        {
          "output_type": "display_data",
          "data": {
            "image/png": "[encoded data removed]",
            "text/plain": [
              "<Figure size 432x288 with 1 Axes>"
            ]
          },
          "metadata": {
            "tags": []
          }
        }
      ]
    },
    {
      "metadata": {
        "id": "TYddA0-npKM8",
        "colab_type": "text"
      },
      "cell_type": "markdown",
      "source": [
        "## Evaluating the Results\n",
        "We’ll create a confusion matrix in order to see how the network performed on different categories. The bright spots off the main axis show the languages it guesses incorrectly."
      ]
    },
    {
      "metadata": {
        "id": "WIfxdF7Ipp8C",
        "colab_type": "code",
        "colab": {
          "base_uri": "https://localhost:8080/",
          "height": 351
        },
        "outputId": "098ab5ba-d091-4041-cbe1-952cda7ea6e9"
      },
      "cell_type": "code",
      "source": [
        "confusion = torch.zeros(no_of_languages, no_of_languages)\n",
        "n_confusion = 10000\n",
        "\n",
        "def evaluate(line_tensor):\n",
        "    hidden = rnn.init_hidden()\n",
        "    \n",
        "    for i in range(line_tensor.size()[0]):\n",
        "        output, hidden = rnn(line_tensor[i], hidden)\n",
        "    \n",
        "    return output\n",
        "\n",
        "for i in range(n_confusion):\n",
        "    category, line, category_tensor, line_tensor = random_training_pair()\n",
        "    output = evaluate(line_tensor)\n",
        "    guess, guess_i = category_from_output(output)\n",
        "    category_i = all_categories.index(category)\n",
        "    confusion[category_i][guess_i] += 1\n",
        "\n",
        "for i in range(no_of_languages):\n",
        "    confusion[i] = confusion[i] / confusion[i].sum()\n",
        "\n",
        "fig = plt.figure()\n",
        "ax = fig.add_subplot(111)\n",
        "cax = ax.matshow(confusion.numpy())\n",
        "fig.colorbar(cax)\n",
        "\n",
        "ax.set_xticklabels([''] + all_categories, rotation=90)\n",
        "ax.set_yticklabels([''] + all_categories)\n",
        "\n",
        "ax.xaxis.set_major_locator(ticker.MultipleLocator(1))\n",
        "ax.yaxis.set_major_locator(ticker.MultipleLocator(1))\n",
        "\n",
        "plt.show()"
      ],
      "execution_count": 28,
      "outputs": [
        {
          "output_type": "stream",
          "text": [
            "/usr/local/lib/python3.6/dist-packages/ipykernel_launcher.py:20: UserWarning: Implicit dimension choice for log_softmax has been deprecated. Change the call to include dim=X as an argument.\n"
          ],
          "name": "stderr"
        },
        {
          "output_type": "display_data",
          "data": {
            "image/png": "[encoded data removed]",
            "text/plain": [
              "<Figure size 432x288 with 2 Axes>"
            ]
          },
          "metadata": {
            "tags": []
          }
        }
      ]
    },
    {
      "metadata": {
        "id": "aAAqlJaNppYv",
        "colab_type": "text"
      },
      "cell_type": "markdown",
      "source": [
        "## Predicting New Names\n",
        "We’ll define a function that will take in a name and return the likely languages the name is from."
      ]
    },
    {
      "metadata": {
        "id": "bcUKc9IApxG6",
        "colab_type": "code",
        "colab": {
          "base_uri": "https://localhost:8080/",
          "height": 139
        },
        "outputId": "51d2f800-9594-4161-d77b-82023fe88d39"
      },
      "cell_type": "code",
      "source": [
        "def predict(input_line, n_predictions=3):\n",
        "    print('\\n> %s' % input_line)\n",
        "    output = evaluate(Variable(line_to_tensor(input_line)))\n",
        "\n",
        "    topv, topi = output.data.topk(n_predictions, 1, True)\n",
        "    predictions = []\n",
        "\n",
        "    for i in range(n_predictions):\n",
        "        value = topv[0][i]\n",
        "        category_index = topi[0][i]\n",
        "        print('(%.2f) %s' % (value, all_categories[category_index]))\n",
        "        predictions.append([value, all_categories[category_index]])\n",
        "\n",
        "predict('Irfan')"
      ],
      "execution_count": 30,
      "outputs": [
        {
          "output_type": "stream",
          "text": [
            "\n",
            "> Irfan\n",
            "(-0.81) Arabic\n",
            "(-2.25) English\n",
            "(-2.34) Scottish\n"
          ],
          "name": "stdout"
        },
        {
          "output_type": "stream",
          "text": [
            "/usr/local/lib/python3.6/dist-packages/ipykernel_launcher.py:20: UserWarning: Implicit dimension choice for log_softmax has been deprecated. Change the call to include dim=X as an argument.\n"
          ],
          "name": "stderr"
        }
      ]
    },
    {
      "metadata": {
        "id": "mGsMeqJZfHHA",
        "colab_type": "code",
        "colab": {
          "base_uri": "https://localhost:8080/",
          "height": 139
        },
        "outputId": "44194a40-30ac-4aaa-86da-c934110939a7"
      },
      "cell_type": "code",
      "source": [
        "predict('Mini')"
      ],
      "execution_count": 32,
      "outputs": [
        {
          "output_type": "stream",
          "text": [
            "\n",
            "> Mini\n",
            "(-0.91) Chinese\n",
            "(-1.17) Italian\n",
            "(-2.60) Japanese\n"
          ],
          "name": "stdout"
        },
        {
          "output_type": "stream",
          "text": [
            "/usr/local/lib/python3.6/dist-packages/ipykernel_launcher.py:20: UserWarning: Implicit dimension choice for log_softmax has been deprecated. Change the call to include dim=X as an argument.\n"
          ],
          "name": "stderr"
        }
      ]
    }
  ]
}